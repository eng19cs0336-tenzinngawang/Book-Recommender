{
 "cells": [
  {
   "cell_type": "code",
   "execution_count": 1,
   "metadata": {},
   "outputs": [],
   "source": [
    "import pandas as pd\n",
    "import matplotlib.pyplot as plt\n",
    "import numpy as np\n",
    "import sklearn as sk\n",
    "from sklearn.neighbors import NearestNeighbors\n",
    "from scipy.spatial.distance import correlation, cosine\n",
    "import random"
   ]
  },
  {
   "cell_type": "code",
   "execution_count": 2,
   "metadata": {},
   "outputs": [
    {
     "name": "stderr",
     "output_type": "stream",
     "text": [
      "b'Skipping line 6452: expected 8 fields, saw 9\\nSkipping line 43667: expected 8 fields, saw 10\\nSkipping line 51751: expected 8 fields, saw 9\\n'\n",
      "b'Skipping line 92038: expected 8 fields, saw 9\\nSkipping line 104319: expected 8 fields, saw 9\\nSkipping line 121768: expected 8 fields, saw 9\\n'\n",
      "b'Skipping line 144058: expected 8 fields, saw 9\\nSkipping line 150789: expected 8 fields, saw 9\\nSkipping line 157128: expected 8 fields, saw 9\\nSkipping line 180189: expected 8 fields, saw 9\\nSkipping line 185738: expected 8 fields, saw 9\\n'\n",
      "b'Skipping line 209388: expected 8 fields, saw 9\\nSkipping line 220626: expected 8 fields, saw 9\\nSkipping line 227933: expected 8 fields, saw 11\\nSkipping line 228957: expected 8 fields, saw 10\\nSkipping line 245933: expected 8 fields, saw 9\\nSkipping line 251296: expected 8 fields, saw 9\\nSkipping line 259941: expected 8 fields, saw 9\\nSkipping line 261529: expected 8 fields, saw 9\\n'\n",
      "/Users/jneilcottle/anaconda3/lib/python3.7/site-packages/IPython/core/interactiveshell.py:3058: DtypeWarning: Columns (3) have mixed types.Specify dtype option on import or set low_memory=False.\n",
      "  interactivity=interactivity, compiler=compiler, result=result)\n"
     ]
    }
   ],
   "source": [
    "books = pd.read_csv('../Books/BX-CSV-Dump/BX-Books.csv', sep=';', error_bad_lines = False, encoding='latin-1')\n",
    "books.drop(['Image-URL-S', 'Image-URL-M', 'Image-URL-L', 'Publisher', 'Year-Of-Publication'], axis=1, inplace=True)\n",
    "ratings = pd.read_csv('../Books/BX-CSV-Dump/BX-Book-Ratings.csv', sep=';', error_bad_lines = False, encoding='latin-1')\n",
    "users = pd.read_csv('../Books/BX-CSV-Dump/BX-Users.csv', sep=';', error_bad_lines = False, encoding='latin-1')\n",
    "users.drop(['Location'], axis = 1, inplace=True)"
   ]
  },
  {
   "cell_type": "markdown",
   "metadata": {},
   "source": [
    "Clean up data; do we have ratings for books that are not in the book data? Which rating system will we use (implict, explict)? Are there Nans?"
   ]
  },
  {
   "cell_type": "code",
   "execution_count": 3,
   "metadata": {},
   "outputs": [],
   "source": [
    "def compactBooks(book, ratings):\n",
    "    #count entries with same name and same author\n",
    "    bookgroups = book.groupby([\"Book-Title\", \"Book-Author\"])\n",
    "\n",
    "    booksort = bookgroups.size().sort_values(ascending=False)\n",
    "    for i, ind in enumerate(booksort.index):\n",
    "        #look only at the ones with counts > 1\n",
    "        if booksort.values[i] == 1:\n",
    "            continue\n",
    "        else:\n",
    "            thisgroup = bookgroups.groups[ind[0], ind[1]]\n",
    "            firstind = thisgroup[0]\n",
    "            firstisbn = book['ISBN'][firstind]  #get isbn for book with this index\n",
    "            #loop through others in groups\n",
    "            for i in thisgroup[1:]:\n",
    "                #change isbns in *ratings* of group to firstisbn\n",
    "                copyisbn = book['ISBN'][i]\n",
    "                ratingsOnCopy = np.where(ratings['ISBN']==copyisbn)\n",
    "                ratings['ISBN'][ratingsOnCopy[0]] = firstisbn\n",
    "                \n",
    "                #drop row of book copy\n",
    "                book.drop([i], inplace=True)\n",
    "                \n",
    "    return book, ratings\n",
    "            "
   ]
  },
  {
   "cell_type": "code",
   "execution_count": 4,
   "metadata": {},
   "outputs": [],
   "source": [
    "def cleanRatings(allratings, books):\n",
    "    ratings_allbooks = allratings[allratings['ISBN'].isin(books['ISBN'])]\n",
    "    ratings_implicit = ratings_allbooks[ratings_allbooks[\"Book-Rating\"] == 0]\n",
    "    ratings_explicit = ratings_allbooks[ratings_allbooks[\"Book-Rating\"] != 0]\n",
    "    \n",
    "    ratings_implicit.drop_duplicates(subset=['ISBN', 'User-ID'], inplace=True)\n",
    "    ratings_explicit.drop_duplicates(subset=['ISBN', 'User-ID'], inplace=True)\n",
    "    \n",
    "    ratings_implicit[\"Book-Rating\"] = np.ones(len(ratings_implicit['Book-Rating']))\n",
    "    \n",
    "    return ratings_implicit, ratings_explicit"
   ]
  },
  {
   "cell_type": "markdown",
   "metadata": {},
   "source": [
    "Make the dataset smaller, we don't need users that have rated few books or books with few ratings"
   ]
  },
  {
   "cell_type": "markdown",
   "metadata": {},
   "source": [
    "Take only the books with more than 50 ratings and only the users who have rated at least 100 books"
   ]
  },
  {
   "cell_type": "code",
   "execution_count": 5,
   "metadata": {},
   "outputs": [],
   "source": [
    "def reduceRates(rates, userLimit, bookLimit):\n",
    "    count_users = rates['User-ID'].value_counts()\n",
    "    count_books= rates['ISBN'].value_counts()\n",
    "    \n",
    "    fig, ax = plt.subplots(1,2)\n",
    "    ax[0].hist(count_users.values, bins = int(np.max(count_users.values)/100))\n",
    "    ax[0].set_yscale('log')\n",
    "    ax[0].set_xlim(0, 3000)\n",
    "    ax[0].plot([userLimit, userLimit],[1, 60000], linestyle = 'dashed', color = 'red')\n",
    "    ax[0].set_title('Ratings by Users')\n",
    "    ax[0].set_xlabel('Ratings')\n",
    "    ax[0].set_ylabel('Number of Users')\n",
    "\n",
    "    ax[1].hist(count_books.values, bins = int(np.max(count_books.values)/50))\n",
    "    ax[1].set_yscale('log')\n",
    "    ax[1].set_xlim(0, 1000)\n",
    "    ax[1].plot([bookLimit, bookLimit],[1, 60000], linestyle = 'dashed', color = 'red')\n",
    "    ax[1].set_title('Ratings by Books')\n",
    "    ax[1].set_xlabel('Ratings')\n",
    "    ax[1].set_ylabel('Number of Books')\n",
    "    \n",
    "    rates = rates[rates['User-ID'].isin(count_users[count_users >=userLimit].index)]\n",
    "    rates = rates[rates['ISBN'].isin(count_books[count_books >=bookLimit].index)]\n",
    "    \n",
    "    return rates"
   ]
  },
  {
   "cell_type": "code",
   "execution_count": 6,
   "metadata": {},
   "outputs": [],
   "source": [
    "def makeMatrix(rates):\n",
    "    rates = rates.pivot(index='User-ID', columns='ISBN', values='Book-Rating')\n",
    "    rates = rates.where(pd.notnull(rates), 0)\n",
    "    print('Matrix shape {}'.format(rates.shape))\n",
    "    return rates"
   ]
  },
  {
   "cell_type": "code",
   "execution_count": 7,
   "metadata": {},
   "outputs": [],
   "source": [
    "def findBooks(user_inds, ratings_matrix, b):\n",
    "    books = np.zeros(ratings_matrix.iloc[0, :].values.shape)\n",
    "    for ids in user_inds:\n",
    "        user_vec = ratings_matrix.iloc[ids, :].values\n",
    "        books = books + user_vec\n",
    "    \n",
    "    books = pd.Series(books)\n",
    "    books = books.sort_values(ascending=False)\n",
    "    top100 = books[:len(user_inds)*b]\n",
    "    bookIds = []\n",
    "    bookValues = []\n",
    "    for i, ind in enumerate(top100.index):\n",
    "        bookIds.append(ratings_matrix.columns[ind])\n",
    "        bookValues.append(top100.values[i])\n",
    "    return bookIds, bookValues"
   ]
  },
  {
   "cell_type": "code",
   "execution_count": 8,
   "metadata": {},
   "outputs": [],
   "source": [
    "#find the mean rating for a given user, only looking at book which they've rated\n",
    "def calcMean(user_loc, ratings_matrix):\n",
    "    user_ratings = ratings_matrix.iloc[user_loc, :]\n",
    "    #select only where rating != 0\n",
    "    user_ratings = user_ratings[user_ratings != 0]\n",
    "    \n",
    "    mean = np.sum(user_ratings)/len(user_ratings)\n",
    "    return mean\n",
    "\n",
    "def findTitle(isbn):\n",
    "    p = books.set_index('ISBN').index.get_loc(isbn)\n",
    "    return books['Book-Title'][p]"
   ]
  },
  {
   "cell_type": "code",
   "execution_count": 9,
   "metadata": {},
   "outputs": [],
   "source": [
    "#predict rating for a specific item/user\n",
    "def predict_rating_explicit(user_loc, item_loc, sim_user_ind, sims, matrix):\n",
    "    mean_rating_user = calcMean(user_loc, matrix)\n",
    "    sim_sum = np.sum(sims)\n",
    "    rate_sum = 0\n",
    "    #loop through similar users\n",
    "    for i, sim_user in enumerate(sim_user_ind):        \n",
    "        product = matrix.iloc[sim_user, item_loc]*sims[i]\n",
    "        rate_sum=rate_sum+product\n",
    "\n",
    "    prediction = (rate_sum/sim_sum)\n",
    "    return prediction\n",
    "\n",
    "#predict rating for a specific item/user\n",
    "def predict_rating_implicit(user_loc, item_loc, sim_user_ind, sims, bookvalue, matrix):\n",
    "    mean_rating_user = calcMean(user_loc, matrix)\n",
    "    sim_sum = np.sum(sims)\n",
    "    rate_sum = 0\n",
    "    #loop through similar users\n",
    "    for i, sim_user in enumerate(sim_user_ind):        \n",
    "        product= matrix.iloc[sim_user, item_loc]*sims[i]  #weight rating by similarity\n",
    "        rate_sum=rate_sum+product\n",
    "\n",
    "    prediction = (rate_sum/sim_sum)\n",
    "    return prediction"
   ]
  },
  {
   "cell_type": "code",
   "execution_count": 10,
   "metadata": {},
   "outputs": [
    {
     "ename": "SyntaxError",
     "evalue": "invalid syntax (<ipython-input-10-d21f159f44c6>, line 4)",
     "output_type": "error",
     "traceback": [
      "\u001b[0;36m  File \u001b[0;32m\"<ipython-input-10-d21f159f44c6>\"\u001b[0;36m, line \u001b[0;32m4\u001b[0m\n\u001b[0;31m    books =\u001b[0m\n\u001b[0m            ^\u001b[0m\n\u001b[0;31mSyntaxError\u001b[0m\u001b[0;31m:\u001b[0m invalid syntax\n"
     ]
    }
   ],
   "source": [
    "def likeUsersMatrix(user_inds, ratings_matrix, b):\n",
    "    \n",
    "    \n",
    "    books = \n",
    "    for ids in user_inds:\n",
    "        user_vec = ratings_matrix.iloc[ids, :].values\n",
    "        books = books + user_vec\n",
    "    \n",
    "    books = pd.Series(books)\n",
    "    books = books.sort_values(ascending=False)\n",
    "    top100 = books[:len(user_inds)*b]\n",
    "    bookIds = []\n",
    "    bookValues = []\n",
    "    for i, ind in enumerate(top100.index):\n",
    "        bookIds.append(ratings_matrix.columns[ind])\n",
    "        bookValues.append(top100.values[i])\n",
    "    return bookIds, bookValues"
   ]
  },
  {
   "cell_type": "code",
   "execution_count": 12,
   "metadata": {},
   "outputs": [],
   "source": [
    "#find the most likely to be read over all books\n",
    "def recommendbook(user_id, ratings_matrix, rateType, n, b):\n",
    "    if rateType != 'imp' and rateType != 'exp':\n",
    "        print('Unknown rating type!')\n",
    "        return\n",
    "        \n",
    "    knn_model = NearestNeighbors(metric = 'cosine', algorithm = 'brute')\n",
    "    knn_model.fit(ratings_matrix)\n",
    "    \n",
    "    user_loc = ratings_matrix.index.get_loc(user_id)\n",
    "    user_vec = ratings_matrix.iloc[user_loc, :].values.reshape(1, -1)\n",
    "    \n",
    "    #find similar users\n",
    "    dist, indices = knn_model.kneighbors(user_vec, n_neighbors= n)\n",
    "    \n",
    "    #ignore the first item, it is the original user\n",
    "    sims = 1-dist.flatten()[1:] #most similar is closest to 1\n",
    "    sim_user_ind = indices.flatten()[1:]\n",
    "    \n",
    "    #list books similar users have read\n",
    "    simUserBooks, bookValues = findBooks(sim_user_ind, ratings_matrix, b)\n",
    "    \n",
    "    #return matrix of similar users and book ratings (Y)\n",
    "    #Y = likeUsersMatrix(sim_user_ind, ratings_matrix, b)\n",
    "    \n",
    "    \n",
    "    \n",
    "    \n",
    "    predictions = []\n",
    "    for i, book in enumerate(simUserBooks):\n",
    "        item_loc = ratings_matrix.columns.get_loc(book)\n",
    "        if (ratings_matrix.iloc[user_loc, item_loc] == 0):\n",
    "            if rateType == 'imp':\n",
    "                predictions.append((predict_rating_implicit(user_loc, item_loc, sim_user_ind, sims, bookValues[i], ratings_matrix), book))\n",
    "            else:  \n",
    "                predictions.append((predict_rating_explicit(user_loc, item_loc, sim_user_ind, sims, ratings_matrix), book))\n",
    "        else:\n",
    "            predictions.append((-1, book)) #already read\n",
    "    \n",
    "    predictions = pd.Series(predictions)\n",
    "    predictions = predictions.sort_values(ascending=False)\n",
    "    recommend = predictions[:10]\n",
    "        \n",
    "    return recommend"
   ]
  },
  {
   "cell_type": "markdown",
   "metadata": {},
   "source": [
    "## Time to put the recommender to use!"
   ]
  },
  {
   "cell_type": "code",
   "execution_count": 23,
   "metadata": {},
   "outputs": [
    {
     "name": "stderr",
     "output_type": "stream",
     "text": [
      "/Users/jneilcottle/anaconda3/lib/python3.7/site-packages/ipykernel_launcher.py:19: SettingWithCopyWarning: \n",
      "A value is trying to be set on a copy of a slice from a DataFrame\n",
      "\n",
      "See the caveats in the documentation: https://pandas.pydata.org/pandas-docs/stable/user_guide/indexing.html#returning-a-view-versus-a-copy\n",
      "/Users/jneilcottle/anaconda3/lib/python3.7/site-packages/pandas/core/indexing.py:670: SettingWithCopyWarning: \n",
      "A value is trying to be set on a copy of a slice from a DataFrame\n",
      "\n",
      "See the caveats in the documentation: https://pandas.pydata.org/pandas-docs/stable/user_guide/indexing.html#returning-a-view-versus-a-copy\n",
      "  iloc._setitem_with_indexer(indexer, value)\n"
     ]
    }
   ],
   "source": [
    "books, ratings= compactBooks(books, ratings)"
   ]
  },
  {
   "cell_type": "code",
   "execution_count": 24,
   "metadata": {},
   "outputs": [
    {
     "name": "stdout",
     "output_type": "stream",
     "text": [
      "ISBN        User-ID\n",
      "0439409292  185233     12\n",
      "1569310203  156111      6\n",
      "0330332775  11676       5\n",
      "1591161932  10354       5\n",
      "0835902242  240258      5\n",
      "0871359251  63714       4\n",
      "1591822580  38023       4\n",
      "            224904      4\n",
      "037582345X  11676       4\n",
      "1591822580  196160      4\n",
      "dtype: int64\n"
     ]
    }
   ],
   "source": [
    "bookgroups = ratings.groupby([\"ISBN\", \"User-ID\"])\n",
    "\n",
    "booksort = bookgroups.size().sort_values(ascending=False)\n",
    "print(booksort[:10])"
   ]
  },
  {
   "cell_type": "code",
   "execution_count": 25,
   "metadata": {},
   "outputs": [
    {
     "name": "stderr",
     "output_type": "stream",
     "text": [
      "/Users/jneilcottle/anaconda3/lib/python3.7/site-packages/ipykernel_launcher.py:6: SettingWithCopyWarning: \n",
      "A value is trying to be set on a copy of a slice from a DataFrame\n",
      "\n",
      "See the caveats in the documentation: https://pandas.pydata.org/pandas-docs/stable/user_guide/indexing.html#returning-a-view-versus-a-copy\n",
      "  \n",
      "/Users/jneilcottle/anaconda3/lib/python3.7/site-packages/ipykernel_launcher.py:7: SettingWithCopyWarning: \n",
      "A value is trying to be set on a copy of a slice from a DataFrame\n",
      "\n",
      "See the caveats in the documentation: https://pandas.pydata.org/pandas-docs/stable/user_guide/indexing.html#returning-a-view-versus-a-copy\n",
      "  import sys\n",
      "/Users/jneilcottle/anaconda3/lib/python3.7/site-packages/ipykernel_launcher.py:9: SettingWithCopyWarning: \n",
      "A value is trying to be set on a copy of a slice from a DataFrame.\n",
      "Try using .loc[row_indexer,col_indexer] = value instead\n",
      "\n",
      "See the caveats in the documentation: https://pandas.pydata.org/pandas-docs/stable/user_guide/indexing.html#returning-a-view-versus-a-copy\n",
      "  if __name__ == '__main__':\n"
     ]
    }
   ],
   "source": [
    "imp, exp = cleanRatings(ratings, books)"
   ]
  },
  {
   "cell_type": "code",
   "execution_count": 26,
   "metadata": {},
   "outputs": [
    {
     "name": "stdout",
     "output_type": "stream",
     "text": [
      "ISBN        User-ID\n",
      "B000234N3A  100906     1\n",
      "0399145869  56959      1\n",
      "0399145796  185677     1\n",
      "            196031     1\n",
      "            211079     1\n",
      "                      ..\n",
      "0399145311  157602     1\n",
      "0399145087  262599     1\n",
      "            262940     1\n",
      "            267292     1\n",
      "            267642     1\n",
      "Length: 100, dtype: int64\n"
     ]
    }
   ],
   "source": [
    "bookgroups = exp.groupby([\"ISBN\", \"User-ID\"])\n",
    "\n",
    "booksort = bookgroups.size().sort_values(ascending=False)\n",
    "print(booksort[:100])"
   ]
  },
  {
   "cell_type": "markdown",
   "metadata": {},
   "source": [
    "Populatarity based recommendations; what books have been read the most? "
   ]
  },
  {
   "cell_type": "code",
   "execution_count": 27,
   "metadata": {},
   "outputs": [
    {
     "data": {
      "text/html": [
       "<div>\n",
       "<style scoped>\n",
       "    .dataframe tbody tr th:only-of-type {\n",
       "        vertical-align: middle;\n",
       "    }\n",
       "\n",
       "    .dataframe tbody tr th {\n",
       "        vertical-align: top;\n",
       "    }\n",
       "\n",
       "    .dataframe thead th {\n",
       "        text-align: right;\n",
       "    }\n",
       "</style>\n",
       "<table border=\"1\" class=\"dataframe\">\n",
       "  <thead>\n",
       "    <tr style=\"text-align: right;\">\n",
       "      <th></th>\n",
       "      <th>Book-Rating</th>\n",
       "      <th>ISBN</th>\n",
       "      <th>Book-Title</th>\n",
       "      <th>Book-Author</th>\n",
       "    </tr>\n",
       "  </thead>\n",
       "  <tbody>\n",
       "    <tr>\n",
       "      <th>408</th>\n",
       "      <td>5787</td>\n",
       "      <td>0316666343</td>\n",
       "      <td>The Lovely Bones: A Novel</td>\n",
       "      <td>Alice Sebold</td>\n",
       "    </tr>\n",
       "    <tr>\n",
       "      <th>748</th>\n",
       "      <td>4118</td>\n",
       "      <td>0385504209</td>\n",
       "      <td>The Da Vinci Code</td>\n",
       "      <td>Dan Brown</td>\n",
       "    </tr>\n",
       "    <tr>\n",
       "      <th>356</th>\n",
       "      <td>3405</td>\n",
       "      <td>0142001740</td>\n",
       "      <td>The Secret Life of Bees</td>\n",
       "      <td>Sue Monk Kidd</td>\n",
       "    </tr>\n",
       "    <tr>\n",
       "      <th>522</th>\n",
       "      <td>3134</td>\n",
       "      <td>0312195516</td>\n",
       "      <td>The Red Tent (Bestselling Backlist)</td>\n",
       "      <td>Anita Diamant</td>\n",
       "    </tr>\n",
       "    <tr>\n",
       "      <th>541</th>\n",
       "      <td>2904</td>\n",
       "      <td>0312278586</td>\n",
       "      <td>The Nanny Diaries: A Novel</td>\n",
       "      <td>Emma McLaughlin</td>\n",
       "    </tr>\n",
       "    <tr>\n",
       "      <th>3459</th>\n",
       "      <td>2836</td>\n",
       "      <td>0439064872</td>\n",
       "      <td>Harry Potter and the Chamber of Secrets (Book 2)</td>\n",
       "      <td>J. K. Rowling</td>\n",
       "    </tr>\n",
       "    <tr>\n",
       "      <th>2143</th>\n",
       "      <td>2815</td>\n",
       "      <td>059035342X</td>\n",
       "      <td>Harry Potter and the Sorcerer's Stone (Harry P...</td>\n",
       "      <td>J. K. Rowling</td>\n",
       "    </tr>\n",
       "    <tr>\n",
       "      <th>166</th>\n",
       "      <td>2808</td>\n",
       "      <td>0330332775</td>\n",
       "      <td>Bridget Jones's Diary</td>\n",
       "      <td>Helen Fielding</td>\n",
       "    </tr>\n",
       "    <tr>\n",
       "      <th>246</th>\n",
       "      <td>2709</td>\n",
       "      <td>0151008116</td>\n",
       "      <td>Life of Pi</td>\n",
       "      <td>Yann Martel</td>\n",
       "    </tr>\n",
       "    <tr>\n",
       "      <th>26</th>\n",
       "      <td>2551</td>\n",
       "      <td>0971880107</td>\n",
       "      <td>Wild Animus</td>\n",
       "      <td>Rich Shapero</td>\n",
       "    </tr>\n",
       "  </tbody>\n",
       "</table>\n",
       "</div>"
      ],
      "text/plain": [
       "      Book-Rating        ISBN  \\\n",
       "408          5787  0316666343   \n",
       "748          4118  0385504209   \n",
       "356          3405  0142001740   \n",
       "522          3134  0312195516   \n",
       "541          2904  0312278586   \n",
       "3459         2836  0439064872   \n",
       "2143         2815  059035342X   \n",
       "166          2808  0330332775   \n",
       "246          2709  0151008116   \n",
       "26           2551  0971880107   \n",
       "\n",
       "                                             Book-Title      Book-Author  \n",
       "408                           The Lovely Bones: A Novel     Alice Sebold  \n",
       "748                                   The Da Vinci Code        Dan Brown  \n",
       "356                             The Secret Life of Bees    Sue Monk Kidd  \n",
       "522                 The Red Tent (Bestselling Backlist)    Anita Diamant  \n",
       "541                          The Nanny Diaries: A Novel  Emma McLaughlin  \n",
       "3459   Harry Potter and the Chamber of Secrets (Book 2)    J. K. Rowling  \n",
       "2143  Harry Potter and the Sorcerer's Stone (Harry P...    J. K. Rowling  \n",
       "166                               Bridget Jones's Diary   Helen Fielding  \n",
       "246                                          Life of Pi      Yann Martel  \n",
       "26                                          Wild Animus     Rich Shapero  "
      ]
     },
     "execution_count": 27,
     "metadata": {},
     "output_type": "execute_result"
    }
   ],
   "source": [
    "ratings_pop = pd.DataFrame(exp.groupby(['ISBN'])['Book-Rating'].sum())\n",
    "top10 = ratings_pop.sort_values('Book-Rating', ascending=False).head(10)\n",
    "top10.merge(books, left_index=True, right_on = 'ISBN')"
   ]
  },
  {
   "cell_type": "code",
   "execution_count": 28,
   "metadata": {},
   "outputs": [
    {
     "data": {
      "image/png": "[encoded data removed]",
      "text/plain": [
       "<Figure size 432x288 with 2 Axes>"
      ]
     },
     "metadata": {
      "needs_background": "light"
     },
     "output_type": "display_data"
    },
    {
     "data": {
      "image/png": "[encoded data removed]",
      "text/plain": [
       "<Figure size 432x288 with 2 Axes>"
      ]
     },
     "metadata": {
      "needs_background": "light"
     },
     "output_type": "display_data"
    }
   ],
   "source": [
    "imp_small = reduceRates(imp, 100, 50)\n",
    "exp_small = reduceRates(exp, 100, 50)"
   ]
  },
  {
   "cell_type": "code",
   "execution_count": 32,
   "metadata": {},
   "outputs": [
    {
     "name": "stdout",
     "output_type": "stream",
     "text": [
      "Matrix shape (1073, 1244)\n",
      "Matrix shape (432, 626)\n"
     ]
    }
   ],
   "source": [
    "ratings_matrix_imp = makeMatrix(imp_small)\n",
    "ratings_matrix_exp = makeMatrix(exp_small)"
   ]
  },
  {
   "cell_type": "code",
   "execution_count": 33,
   "metadata": {},
   "outputs": [
    {
     "name": "stdout",
     "output_type": "stream",
     "text": [
      "         User-ID        ISBN  Book-Rating\n",
      "1456      277427  002542730X           10\n",
      "1474      277427  0061009059            9\n",
      "1522      277427  0316776963            8\n",
      "1543      277427  0345413903           10\n",
      "1578      277427  0385424736            9\n",
      "...          ...         ...          ...\n",
      "1146850   275970  0446391301            7\n",
      "1146852   275970  044651652X            6\n",
      "1147167   275970  0060987561            8\n",
      "1147376   275970  0860074382           10\n",
      "1147556   275970  0316776963            9\n",
      "\n",
      "[10099 rows x 3 columns]\n"
     ]
    }
   ],
   "source": [
    "print(exp_small)"
   ]
  },
  {
   "cell_type": "code",
   "execution_count": 35,
   "metadata": {},
   "outputs": [
    {
     "name": "stdout",
     "output_type": "stream",
     "text": [
      "1 Conspiracy.Com : A Novel (expected rating 6.45)\n",
      "2 Pooh's Little Book of Feng Shui (expected rating 6.41)\n",
      "3 Every Day's a Party : Louisiana Recipes For Celebrating With Family And Friends (expected rating 5.64)\n",
      "4 The Guns of Avalon (Chronicles of Amber) (expected rating 5.62)\n",
      "5 The Witness (expected rating 5.42)\n",
      "6 Into the Wilderness (expected rating 5.30)\n",
      "7 Witching Hour (Lives of the Mayfair Witches) (expected rating 4.97)\n",
      "8 Curanderismo: Mexican American Folk Healing (expected rating -1.00)\n",
      "9 Tales of Terror and the Supernatural (expected rating -1.00)\n",
      "10 The Unbearable Lightness of Being (expected rating -1.00)\n"
     ]
    }
   ],
   "source": [
    "recs = recommendbook(11676, ratings_matrix_exp, 'exp', 4, 15)\n",
    "for i, (rate, book) in enumerate(recs):\n",
    "        bookTitle = findTitle(book)\n",
    "        print(\"{} {} (expected rating {:0.2f})\".format(i+1, bookTitle, rate))"
   ]
  },
  {
   "cell_type": "code",
   "execution_count": 105,
   "metadata": {},
   "outputs": [
    {
     "data": {
      "image/png": "[encoded data removed]",
      "text/plain": [
       "<Figure size 576x288 with 2 Axes>"
      ]
     },
     "metadata": {
      "needs_background": "light"
     },
     "output_type": "display_data"
    }
   ],
   "source": [
    "fig, ax = plt.subplots(1, 2, figsize = (8,4))\n",
    "n = 100\n",
    "\n",
    "user_n = np.random.choice(ratings_matrix_exp.index, n, replace = False)\n",
    "for i in [5, 7, 10, 15]:\n",
    "    totaldiff = np.zeros(len(np.arange(3, 10)))\n",
    "    totalmax = np.zeros(len(np.arange(3, 10)))\n",
    "    for u in user100:\n",
    "        diff = []\n",
    "        maxrat = []\n",
    "        for k in np.arange(3, 10):\n",
    "            recs = recommendbook(u, ratings_matrix_exp, 'exp', k, i)\n",
    "            rang = []\n",
    "            for j, (rate, book) in enumerate(recs):\n",
    "                rang.append(rate)\n",
    "            maxrat.append(rang[0])\n",
    "            diff.append(np.count_nonzero(np.array(rang)==-1))\n",
    "            \n",
    "                \n",
    "        totaldiff = totaldiff + diff\n",
    "        totalmax = totalmax + maxrat\n",
    "        \n",
    "     \n",
    "    ax[1].plot(np.arange(3, 10), totaldiff/n*10, label = 'books per user: '+str(i))\n",
    "    ax[1].set_xlabel('Similar Users')\n",
    "    ax[1].set_ylabel('Number of Already Read Books')\n",
    "    \n",
    "    ax[0].plot(np.arange(3, 10), totalmax/n*10, label = 'books per user: '+str(i))\n",
    "    ax[0].set_xlabel('Similar Users')\n",
    "    ax[0].set_ylabel('Max Rating')\n",
    "    ax[1].legend(loc = 1)"
   ]
  },
  {
   "cell_type": "code",
   "execution_count": 31,
   "metadata": {},
   "outputs": [],
   "source": [
    "#for a given user,\n",
    "#remove 10 books, \n",
    "#then try to recommend books for that user\n",
    "#then check to see if any/all of those books where ones that were removed\n",
    "def testUser(user_id, ratings_matrix, rateType):\n",
    "    user_loc = ratings_matrix.index.get_loc(user_id)\n",
    "    user_vec = ratings_matrix.iloc[user_loc, :]\n",
    "    \n",
    "    #find where user_vec == 0; \n",
    "    ratedBooks = np.where(user_vec != 0)\n",
    "    print(len(ratedBooks[0]))\n",
    "    \n",
    "    #pick 10 at random to turn into 0\n",
    "    removed = np.random.choice(ratedBooks[0], 100, replace=False)\n",
    "    new_matrix = ratings_matrix.copy()\n",
    "    new_matrix.iloc[user_loc, removed] = 0\n",
    "    \n",
    "    #isbns of removed books\n",
    "    removedBooks = user_vec.index[removed]\n",
    "        \n",
    "    #recommend books\n",
    "    print('\\nRecommended Books:')\n",
    "    recommended = recommendbook(user_id, ratings_matrix, rateType)\n",
    "    \n",
    "    print('\\nLooking for removed books:')\n",
    "    \n",
    "    for i, (rate, book) in enumerate(recommended):\n",
    "        if book in removedBooks:\n",
    "            print('yay! found book: {}'.format(findTitle(book)))\n",
    "    "
   ]
  },
  {
   "cell_type": "code",
   "execution_count": 33,
   "metadata": {},
   "outputs": [
    {
     "name": "stdout",
     "output_type": "stream",
     "text": [
      "329\n",
      "\n",
      "Recommended Books:\n",
      "1 White Oleander : A Novel (Oprah's Book Club) (expected rating 4.11)\n",
      "2 1984 (expected rating 3.42)\n",
      "3 Seven Up (A Stephanie Plum Novel) (expected rating 3.21)\n",
      "4 Fahrenheit 451 (expected rating 3.18)\n",
      "5 The Pilot's Wife : A Novel (expected rating 3.14)\n",
      "6 Stupid White Men ...and Other Sorry Excuses for the State of the Nation! (expected rating 3.13)\n",
      "7 The Clan of the Cave Bear (Earth's Children (Paperback)) (expected rating 3.04)\n",
      "8 The Catcher in the Rye (expected rating 2.95)\n",
      "9 Vinegar Hill (Oprah's Book Club (Paperback)) (expected rating 2.85)\n",
      "10 Girl, Interrupted (expected rating 2.79)\n",
      "\n",
      "Looking for removed books:\n"
     ]
    }
   ],
   "source": [
    "testUser(11676, ratings_matrix_exp, 'exp')"
   ]
  },
  {
   "cell_type": "code",
   "execution_count": 84,
   "metadata": {},
   "outputs": [],
   "source": [
    "def addUser(bookIsbns, ratings_matrix):\n",
    "    user_id = np.max(ratings_matrix.index)+1\n",
    "    \n",
    "    newuservec = np.zeros(len(ratings_matrix.columns))\n",
    "    for isbn in bookIsbns:\n",
    "        isbn_loc = ratings_matrix.columns.get_loc(isbn)\n",
    "        newuservec[isbn_loc] = 1\n",
    "    ratings_matrix.loc[user_id] = newuservec\n",
    "    return ratings_matrix"
   ]
  },
  {
   "cell_type": "code",
   "execution_count": null,
   "metadata": {},
   "outputs": [],
   "source": []
  }
 ],
 "metadata": {
  "kernelspec": {
   "display_name": "Python 3",
   "language": "python",
   "name": "python3"
  },
  "language_info": {
   "codemirror_mode": {
    "name": "ipython",
    "version": 3
   },
   "file_extension": ".py",
   "mimetype": "text/x-python",
   "name": "python",
   "nbconvert_exporter": "python",
   "pygments_lexer": "ipython3",
   "version": "3.7.4"
  }
 },
 "nbformat": 4,
 "nbformat_minor": 2
}
